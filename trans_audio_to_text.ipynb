{
 "cells": [
  {
   "cell_type": "code",
   "execution_count": null,
   "metadata": {},
   "outputs": [],
   "source": [
    "#bibliotecas necssarias\n",
    "!pip install google-cloud-speech\n",
    "!pip install google-cloud-storage\n",
    "!pip install google-auth\n",
    "!pip install librosa"
   ]
  },
  {
   "cell_type": "code",
   "execution_count": 16,
   "metadata": {},
   "outputs": [],
   "source": [
    "\n",
    "from google.cloud import speech, storage\n",
    "from concurrent.futures import ThreadPoolExecutor\n",
    "import os\n",
    "import librosa\n",
    "import numpy as np\n",
    "\n",
    "\n",
    "\n",
    "os.environ[\"GOOGLE_APPLICATION_CREDENTIALS\"]  = 'credenciais.json'\n",
    "phrases_l=['Boa tarde Suzana', 'Bom dia Suzana','Bom dia'\n",
    "           ]\n",
    "\n",
    "def normalize_audio_remove_silence(file_path):\n",
    "    y, sr = librosa.load(file_path, sr=9600)\n",
    "    y_nom = librosa.util.normalize(y)\n",
    "\n",
    "    energy = librosa.feature.rms(y=y_nom)\n",
    "    threshold = np.median(energy)\n",
    "    intervals = librosa.effects.split(y_nom, top_db=20, frame_length=512, hop_length=64)\n",
    "\n",
    "    audio_seguiments =[y_nom[start:end] for start, end in intervals]\n",
    "\n",
    "\n",
    "    audio_concat = np.concatenate(audio_seguiments)\n",
    "    return audio_concat, sr\n",
    "\n",
    "\"\"\" def get_sample_rate(file_path):\n",
    "    with wave.open(file_path, 'rb') as wav_file:\n",
    "        return wav_file.getframerate()\n",
    "  \"\"\"   \n",
    "def transcribe_file(speech_file: str) : \n",
    "    \"\"\"Transcribe the given audio file.\"\"\"\n",
    "    client = speech.SpeechClient()\n",
    "\n",
    "   #sample_rate = get_sample_rate(speech_file)\n",
    "    #print(\"sample_rate:\", sample_rate)\n",
    "\n",
    "\n",
    "    #with open(speech_file, \"rb\") as audio_file:\n",
    "   #         content = audio_file.read()\n",
    "    \n",
    "    audio = speech.RecognitionAudio(uri=speech_file)\n",
    "    config = speech.RecognitionConfig(\n",
    "        encoding=speech.RecognitionConfig.AudioEncoding.LINEAR16,\n",
    "        sample_rate_hertz=9600,\n",
    "        language_code=\"pt-BR\", \n",
    "        model = 'phone_call',\n",
    "        enable_separate_recognition_per_channel=True,\n",
    "        enable_automatic_punctuation=True,\n",
    "        speech_contexts=[speech.SpeechContext(phrases=phrases_l,boost=10.0)]\n",
    "         \n",
    "    )\n",
    "\n",
    "    response = client.long_running_recognize(config=config, audio=audio)\n",
    "    print(\"Aguarde operação em andamento...\")\n",
    "    response = response.result(timeout=90)\n",
    "    transcript_builder = []\n",
    "   \n",
    "    for result in response.results:\n",
    "        \n",
    "        transcript_builder.append(f\"\\nTranscript: {result.alternatives[0].transcript}\")\n",
    "        transcript_builder.append(f\"\\nConfidence: {result.alternatives[0].confidence}\")\n",
    "    \n",
    "    transcript = \"\".join(transcript_builder)\n",
    "    #print(transcript)\n",
    "\n",
    "    return transcript\n",
    "\n",
    "\n"
   ]
  },
  {
   "cell_type": "code",
   "execution_count": 15,
   "metadata": {},
   "outputs": [
    {
     "name": "stdout",
     "output_type": "stream",
     "text": [
      "Aguarde operação em andamento...\n"
     ]
    },
    {
     "data": {
      "text/plain": [
       "'\\nTranscript: Gimawa Laisa, boa tarde. Tudo bem também, você tá bem também eu mandar o orçamento novo e a previsão de faturamento, você me mandou no e-mail no e-mail agora no meu na minha mesa, eu vou tentar lá na mesa, daí vou ver aqui, tá bom? Tá bom. Obrigada, viu?\\nConfidence: 0.9104512929916382'"
      ]
     },
     "execution_count": 15,
     "metadata": {},
     "output_type": "execute_result"
    }
   ],
   "source": [
    "transcribe_file('gs://repor_entrada_audio/entradas/teste.wav')"
   ]
  },
  {
   "cell_type": "code",
   "execution_count": 3,
   "metadata": {},
   "outputs": [],
   "source": [
    "# função de envio assincrono do arquivo\n",
    "\n",
    "def upload_to_gcs(bucket_name, source_file_name, destination_blob_name):\n",
    "    \n",
    "    try:\n",
    "        storage_client = storage.Client()\n",
    "        bucket = storage_client.bucket(bucket_name)\n",
    "        blob = bucket.blob(destination_blob_name)\n",
    "    \n",
    "            \n",
    "        blob.upload_from_filename(source_file_name)\n",
    "        print(f\"File uploaded to gs://{bucket_name}/{destination_blob_name}.\")\n",
    "    except Exception as e:\n",
    "        print(f\"Failed to upload {source_file_name} to {destination_blob_name}: {e}\")\n",
    "\n",
    "    print(f\"File {source_file_name} uploaded to {destination_blob_name}.\")\n",
    "\n",
    "\n",
    "def list_files_in_directory(directory):\n",
    "    \"\"\"Lists all files in a given directory.\"\"\"\n",
    "    return [os.path.join(directory, file) for file in os.listdir(directory) if os.path.isfile(os.path.join(directory, file))]\n",
    "\n",
    "def upload_files_to_gcs(bucket_name, directory):\n",
    "    \"\"\"Upload multiple files to GCS asynchronously from a directory.\"\"\"\n",
    "    files = list_files_in_directory(directory)\n",
    "    with ThreadPoolExecutor() as executor:\n",
    "        futures = []\n",
    "        for source_file_name in files:\n",
    "            destination_blob_name = os.path.basename(source_file_name)  # Use the file name as the blob name\n",
    "            futures.append(executor.submit(upload_to_gcs, bucket_name, source_file_name, destination_blob_name))\n",
    "        for future in futures:\n",
    "            future.result()  # Wait for all uploads to complete\n",
    "\n",
    "\n"
   ]
  },
  {
   "cell_type": "code",
   "execution_count": 19,
   "metadata": {},
   "outputs": [
    {
     "name": "stdout",
     "output_type": "stream",
     "text": [
      "File uploaded to gs://repor_entrada_audio/entradas/teste.wav.\n",
      "File temp_audio_file.wav uploaded to entradas/teste.wav.\n"
     ]
    }
   ],
   "source": [
    "import soundfile as sf\n",
    "#envio de arquivos \n",
    "diretorio_SN =False\n",
    "\n",
    "# Nome do bucket GCS\n",
    "bucket_name = \"repor_entrada_audio\"\n",
    "source_file_name = \"teste.wav\"\n",
    "#pasta e nomo do arquivo\n",
    "destination_blob_name = f\"entradas/{source_file_name}\"\n",
    "# Diretório local contendo os arquivos para upload\n",
    "directory = \"\"\n",
    "temp_audio_file =\"temp_audio_file.wav\"\n",
    "\n",
    "audio_data, sample_rate= normalize_audio_remove_silence(source_file_name)\n",
    "\n",
    "#audio_data_bytes = audio_data.astype(np.float32).tobytes()\n",
    "sf.write(temp_audio_file, audio_data, sample_rate)\n",
    "\n",
    "if diretorio_SN ==False:\n",
    "    #bucket_name = enviar bucket  \n",
    "    #source_file_name= nome do arquivo individual com extensão \n",
    "    #destination_blob_name= passa diretorio do BUCKET E NOME DO ARQUIVO\n",
    "\n",
    "    upload_to_gcs(bucket_name, temp_audio_file, destination_blob_name)\n",
    "else:\n",
    "    #envio por diretorio \n",
    "    #bucket_name= enviar bucket \n",
    "    #directory = arquivos do diretorio local para se enviado para nuvem\n",
    "    upload_files_to_gcs(bucket_name, directory)\n",
    "\n",
    "\n",
    "\n",
    "\n",
    "\n",
    "\n",
    "\n",
    "\n",
    "\n"
   ]
  },
  {
   "cell_type": "code",
   "execution_count": 20,
   "metadata": {},
   "outputs": [
    {
     "name": "stdout",
     "output_type": "stream",
     "text": [
      "Sample rate: 9600\n"
     ]
    }
   ],
   "source": [
    "import wave\n",
    "\n",
    "with wave.open(\"temp_audio_file.wav\", \"rb\") as wav_file:\n",
    "    sample_rate = wav_file.getframerate()\n",
    "    print(\"Sample rate:\", sample_rate)"
   ]
  },
  {
   "cell_type": "code",
   "execution_count": 13,
   "metadata": {},
   "outputs": [],
   "source": [
    "audio_data, sample_rate= normalize_audio_remove_silence(source_file_name)\n",
    "\n",
    "audio_data_bytes = audio_data.astype(np.float32).tobytes()\n",
    "\n",
    "\n",
    "with open(\"teste_temp.wav\", \"wb\") as f:\n",
    "    f.write(audio_data)\n"
   ]
  }
 ],
 "metadata": {
  "kernelspec": {
   "display_name": "Python 3",
   "language": "python",
   "name": "python3"
  },
  "language_info": {
   "codemirror_mode": {
    "name": "ipython",
    "version": 3
   },
   "file_extension": ".py",
   "mimetype": "text/x-python",
   "name": "python",
   "nbconvert_exporter": "python",
   "pygments_lexer": "ipython3",
   "version": "3.11.9"
  }
 },
 "nbformat": 4,
 "nbformat_minor": 2
}
